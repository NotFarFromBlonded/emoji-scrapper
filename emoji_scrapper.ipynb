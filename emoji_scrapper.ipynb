{
 "cells": [
  {
   "cell_type": "code",
   "execution_count": 8,
   "id": "f81f4a9b-29c9-43e5-bedc-dcbea5b8d3c2",
   "metadata": {},
   "outputs": [],
   "source": [
    "from selenium import webdriver\n",
    "from selenium.webdriver.chrome.service import Service\n",
    "from selenium.webdriver.common.by import By\n",
    "PATH = \"C:\\Program Files (x86)\\chromedriver.exe\"\n",
    "import pandas as pd"
   ]
  },
  {
   "cell_type": "code",
   "execution_count": 3,
   "id": "f585c209-9b28-40f4-9d70-9099a04a571d",
   "metadata": {
    "tags": []
   },
   "outputs": [],
   "source": [
    "driver = webdriver.Chrome(service=Service(PATH))\n",
    "driver.get(\"https://carpedm20.github.io/emoji/\")\n",
    "driver.maximize_window()"
   ]
  },
  {
   "cell_type": "code",
   "execution_count": 4,
   "id": "bf6ae46a-8c82-4f83-9840-76f4d9f729d2",
   "metadata": {},
   "outputs": [],
   "source": [
    "smc = driver.find_element('id','enable_more_columns').click()"
   ]
  },
  {
   "cell_type": "code",
   "execution_count": 5,
   "id": "822cb9ab-f4e4-4e4f-baf3-d6ba1cd555d9",
   "metadata": {},
   "outputs": [],
   "source": [
    "emoji = driver.find_elements(By.XPATH,'//table[@id=\"emoji_table\"]/tbody/tr[@class=\"en\"]/td[1]')\n",
    "emoji_name = driver.find_elements(By.XPATH,'//table[@id=\"emoji_table\"]/tbody/tr[@class=\"en\"]/td[2]')\n",
    "#emoji_unicode = driver.find_elements(By.XPATH,'//table[@id=\"emoji_table\"]/tbody/tr[@class=\"en\"]/td[3]')\n",
    "#emoji_charname = driver.find_elements(By.XPATH,'//table[@id=\"emoji_table\"]/tbody/tr[@class=\"en\"]/td[4]')\n",
    "xml_html_code = driver.find_elements(By.XPATH,'//table[@id=\"emoji_table\"]/tbody/tr[@class=\"en\"]/td[5]')"
   ]
  },
  {
   "cell_type": "code",
   "execution_count": 6,
   "id": "62a0be7a-a9d2-492a-af31-edecd6c41e46",
   "metadata": {},
   "outputs": [],
   "source": [
    "data = []\n",
    "for i in range (len(emoji_name)):\n",
    "    temp_data={\n",
    "        'Emoji':emoji[i].text,\n",
    "        'Emoji Name':emoji_name[i].text,\n",
    "        'xml_html_code':xml_html_code[i].text\n",
    "    }\n",
    "    data.append(temp_data)"
   ]
  },
  {
   "cell_type": "code",
   "execution_count": 9,
   "id": "83f96e01-0454-4168-8c05-611b68ec4524",
   "metadata": {},
   "outputs": [],
   "source": [
    "df_data = pd.DataFrame(data)\n",
    "df_data.to_csv('emoji_scrapped_data.csv', index=False)"
   ]
  },
  {
   "cell_type": "code",
   "execution_count": null,
   "id": "d19f71ab-37db-421d-ad8f-2b5f919943fc",
   "metadata": {},
   "outputs": [],
   "source": []
  }
 ],
 "metadata": {
  "kernelspec": {
   "display_name": "Python 3 (ipykernel)",
   "language": "python",
   "name": "python3"
  },
  "language_info": {
   "codemirror_mode": {
    "name": "ipython",
    "version": 3
   },
   "file_extension": ".py",
   "mimetype": "text/x-python",
   "name": "python",
   "nbconvert_exporter": "python",
   "pygments_lexer": "ipython3",
   "version": "3.9.7"
  }
 },
 "nbformat": 4,
 "nbformat_minor": 5
}
